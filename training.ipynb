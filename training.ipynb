{
 "cells": [
  {
   "cell_type": "code",
   "execution_count": 1,
   "metadata": {
    "collapsed": true
   },
   "outputs": [],
   "source": [
    "%matplotlib inline\n",
    "import matplotlib.pyplot as plt\n",
    "import tensorflow as tf\n",
    "import numpy as np\n",
    "import time\n",
    "from datetime import timedelta\n",
    "import math\n",
    "import pickle\n",
    "import numpy.random as random\n",
    "\n",
    "import prettytensor as pt"
   ]
  },
  {
   "cell_type": "code",
   "execution_count": 2,
   "metadata": {
    "collapsed": true
   },
   "outputs": [],
   "source": [
    "def plot(imgs, title=None):\n",
    "    # make sure input is a list\n",
    "    if not isinstance(imgs, list):\n",
    "        imgs = [imgs]\n",
    "    \n",
    "    plt.figure()\n",
    "        \n",
    "    for i in range(len(imgs)):\n",
    "        if(title is not None): \n",
    "            plt.suptitle(title)\n",
    "        plt.subplot(1, len(imgs), i+1)\n",
    "        plt.axis(\"off\")\n",
    "        # fix channels for rgb\n",
    "        if len(imgs[i].shape) > 2:\n",
    "            plt.imshow(imgs[i][:,:,[2,1,0]])\n",
    "        else:\n",
    "            plt.imshow(imgs[i])\n",
    "\n",
    "def plot_images(images, cls_true, cls_pred=None):\n",
    "    assert len(images) == len(cls_true) == 9\n",
    "    \n",
    "    # Create figure with 3x3 sub-plots.\n",
    "    fig, axes = plt.subplots(3, 3)\n",
    "    fig.subplots_adjust(hspace=0.3, wspace=0.3)\n",
    "\n",
    "    for i, ax in enumerate(axes.flat):\n",
    "        # Plot image.\n",
    "        ax.imshow(images[i].reshape(img_shape), cmap='binary')\n",
    "\n",
    "        # Show true and predicted classes.\n",
    "        if cls_pred is None:\n",
    "            xlabel = \"True: {0}\".format(cls_true[i])\n",
    "        else:\n",
    "            xlabel = \"True: {0}, Pred: {1}\".format(cls_true[i], cls_pred[i])\n",
    "\n",
    "        # Show the classes as the label on the x-axis.\n",
    "        ax.set_xlabel(xlabel)\n",
    "        \n",
    "        # Remove ticks from the plot.\n",
    "        ax.set_xticks([])\n",
    "        ax.set_yticks([])\n",
    "    \n",
    "    # Ensure the plot is shown correctly with multiple plots\n",
    "    # in a single Notebook cell.\n",
    "    plt.show()"
   ]
  },
  {
   "cell_type": "code",
   "execution_count": 5,
   "metadata": {
    "collapsed": true
   },
   "outputs": [],
   "source": [
    "img_size = 72\n",
    "\n",
    "# Tuple with height and width of images used to reshape arrays.\n",
    "img_shape = (img_size, img_size)\n",
    "\n",
    "# Number of colour channels for the images: 1 channel for gray-scale.\n",
    "n_channels = 5\n",
    "\n",
    "# Number of classes, one class for each of the gestures.\n",
    "n_classes = 20"
   ]
  },
  {
   "cell_type": "code",
   "execution_count": 6,
   "metadata": {
    "collapsed": true
   },
   "outputs": [],
   "source": [
    "def transform_data(data_in):\n",
    "    \n",
    "    n = data_in.shape[0]\n",
    "    d = np.zeros(shape=n, dtype=[('x', np.uint8, (img_size, img_size, n_channels)), ('y', np.uint8, (20,))])\n",
    "\n",
    "    for i, (x, y) in enumerate(d):\n",
    "\n",
    "        x[...,:3] = data_in['rgb'][i]\n",
    "        x[..., 3] = data_in['dep'][i]\n",
    "        x[..., 4] = data_in['seg'][i][...,0]\n",
    "\n",
    "        y[data_in['lbl'][i]] = 1\n",
    "        \n",
    "    return d"
   ]
  },
  {
   "cell_type": "code",
   "execution_count": 8,
   "metadata": {},
   "outputs": [
    {
     "name": "stdout",
     "output_type": "stream",
     "text": [
      "n_samples: 77421\n",
      "done\n"
     ]
    }
   ],
   "source": [
    "data_in = pickle.load(open(\"./data_pp/train_sa.pkl\", 'rb'))\n",
    "n_samples = data_in.shape[0]\n",
    "print('n_samples: {}'.format(n_samples))\n",
    "print('done')"
   ]
  },
  {
   "cell_type": "code",
   "execution_count": 9,
   "metadata": {},
   "outputs": [
    {
     "name": "stdout",
     "output_type": "stream",
     "text": [
      "done\n"
     ]
    }
   ],
   "source": [
    "data = transform_data(data_in)\n",
    "print('done')"
   ]
  },
  {
   "cell_type": "code",
   "execution_count": 10,
   "metadata": {},
   "outputs": [
    {
     "name": "stdout",
     "output_type": "stream",
     "text": [
      "training set:\t69678 samples\n",
      "validation set:\t 7743 samples\n",
      "done\n"
     ]
    }
   ],
   "source": [
    "# shuffle\n",
    "random.shuffle(data)\n",
    "\n",
    "# use fraction as validation set\n",
    "cut = int(0.9*n_samples)\n",
    "\n",
    "train = data[:cut]\n",
    "valid = data[cut:]\n",
    "\n",
    "n_samples_train = train.shape[0]\n",
    "n_samples_valid = valid.shape[0]\n",
    "\n",
    "print('training set:\\t{0: >5} samples'.format(n_samples_train))\n",
    "print('validation set:\\t{0: >5} samples'.format(n_samples_valid))\n",
    "print('done')"
   ]
  },
  {
   "cell_type": "code",
   "execution_count": 11,
   "metadata": {
    "collapsed": true
   },
   "outputs": [],
   "source": [
    "x = tf.placeholder(tf.float32, shape=[None, img_size, img_size, n_channels], name='x')"
   ]
  },
  {
   "cell_type": "code",
   "execution_count": 12,
   "metadata": {
    "collapsed": true
   },
   "outputs": [],
   "source": [
    "y_true = tf.placeholder(tf.float32, shape=[None, 20], name='y_true')\n",
    "y_true_cls = tf.argmax(y_true, dimension=1)"
   ]
  },
  {
   "cell_type": "code",
   "execution_count": 13,
   "metadata": {
    "collapsed": true
   },
   "outputs": [],
   "source": [
    "x_pretty = pt.wrap(x)"
   ]
  },
  {
   "cell_type": "code",
   "execution_count": 14,
   "metadata": {
    "collapsed": true
   },
   "outputs": [],
   "source": [
    "with pt.defaults_scope(activation_fn=tf.nn.relu, l2loss=1e-5):\n",
    "    y_pred, loss = x_pretty.\\\n",
    "        conv2d  (kernel=5, stride=1, depth= 32).\\\n",
    "        conv2d  (kernel=5, stride=1, depth= 32).\\\n",
    "        max_pool(kernel=2, stride=2).\\\n",
    "        conv2d  (kernel=3, stride=1, depth= 64).\\\n",
    "        max_pool(kernel=2, stride=2).\\\n",
    "        conv2d  (kernel=3, stride=2, depth= 64).\\\n",
    "        conv2d  (kernel=3, stride=2, depth=128).\\\n",
    "        flatten().\\\n",
    "        fully_connected(size=256).\\\n",
    "        dropout(keep_prob=0.6).\\\n",
    "        fully_connected(size=512).\\\n",
    "        dropout(keep_prob=0.6).\\\n",
    "        softmax_classifier(num_classes=n_classes, labels=y_true)"
   ]
  },
  {
   "cell_type": "code",
   "execution_count": 15,
   "metadata": {
    "collapsed": true
   },
   "outputs": [],
   "source": [
    "def get_weights_variable(layer_name):\n",
    "    # Retrieve an existing variable named 'weights' in the scope\n",
    "    # with the given layer_name.\n",
    "    # This is awkward because the TensorFlow function was\n",
    "    # really intended for another purpose.\n",
    "\n",
    "    with tf.variable_scope(layer_name, reuse=True):\n",
    "        variable = tf.get_variable('weights')\n",
    "\n",
    "    return variable"
   ]
  },
  {
   "cell_type": "code",
   "execution_count": 16,
   "metadata": {
    "collapsed": true
   },
   "outputs": [],
   "source": [
    "# weights_conv1 = get_weights_variable(layer_name='layer_conv1')\n",
    "# weights_conv2 = get_weights_variable(layer_name='layer_conv2')\n",
    "# weights_conv3 = get_weights_variable(layer_name='layer_conv3')\n",
    "# weights_conv4 = get_weights_variable(layer_name='layer_conv4')\n",
    "# weights_conv5 = get_weights_variable(layer_name='layer_conv5')"
   ]
  },
  {
   "cell_type": "code",
   "execution_count": 17,
   "metadata": {
    "collapsed": true
   },
   "outputs": [],
   "source": [
    "total_iterations = 0"
   ]
  },
  {
   "cell_type": "code",
   "execution_count": 18,
   "metadata": {
    "collapsed": true
   },
   "outputs": [],
   "source": [
    "train_batch_size = 128"
   ]
  },
  {
   "cell_type": "code",
   "execution_count": 19,
   "metadata": {
    "collapsed": true
   },
   "outputs": [],
   "source": [
    "learning_rate = 1e-5"
   ]
  },
  {
   "cell_type": "code",
   "execution_count": 20,
   "metadata": {
    "collapsed": true
   },
   "outputs": [],
   "source": [
    "optimizer = tf.train.RMSPropOptimizer(learning_rate).minimize(loss)\n",
    "\n",
    "y_pred_cls = tf.argmax(y_pred, dimension=1)\n",
    "correct_prediction = tf.equal(y_pred_cls, y_true_cls)\n",
    "accuracy = tf.reduce_mean(tf.cast(correct_prediction, tf.float32))"
   ]
  },
  {
   "cell_type": "code",
   "execution_count": null,
   "metadata": {
    "collapsed": true
   },
   "outputs": [],
   "source": [
    "session = tf.Session()"
   ]
  },
  {
   "cell_type": "code",
   "execution_count": null,
   "metadata": {
    "collapsed": true
   },
   "outputs": [],
   "source": [
    "session.run(tf.global_variables_initializer())"
   ]
  },
  {
   "cell_type": "code",
   "execution_count": 20,
   "metadata": {
    "collapsed": true
   },
   "outputs": [],
   "source": [
    "def optimize(n_iterations):\n",
    "    # Ensure we update the global variable rather than a local copy.\n",
    "    global total_iterations\n",
    "\n",
    "    # Start-time used for printing time-usage below.\n",
    "    start_time = time.time()\n",
    "\n",
    "    for i in range(total_iterations, total_iterations + n_iterations):\n",
    "\n",
    "        # Get a batch of training examples.\n",
    "        # x_batch now holds a batch of images and\n",
    "        # y_batch are the true labels for those images.\n",
    "        draw = random.choice(a=train, size=train_batch_size, replace=False)\n",
    "        \n",
    "        x_batch = draw['x']\n",
    "        y_batch = draw['y']\n",
    "    \n",
    "        batch = {x: x_batch, y_true: y_batch}\n",
    "        \n",
    "        # Run the optimizer using this batch of training data.\n",
    "        # TensorFlow assigns the variables in feed_dict_train\n",
    "        # to the placeholder variables and then runs the optimizer.\n",
    "        session.run(optimizer, feed_dict=batch)\n",
    "\n",
    "        if i % 1000 == 0:\n",
    "            print_valid_accuracy()\n",
    "        \n",
    "        # Print status every so often\n",
    "        if i % 200 == 0:\n",
    "            # Calculate the accuracy on the training-set.\n",
    "            acc = session.run(accuracy, feed_dict=batch)\n",
    "\n",
    "            # Message for printing.\n",
    "            msg = \"iteration: {0:>6}, accuracy (training): {1:>6.1%}, learning rate: {2}\"\n",
    "\n",
    "            rate = learning_rate if type(learning_rate) == float else session.run(learning_rate)\n",
    "            \n",
    "            # Print it.\n",
    "            print(msg.format(i, acc, rate))\n",
    "\n",
    "    # Update the total number of iterations performed.\n",
    "    total_iterations += n_iterations\n",
    "\n",
    "    # Ending time.\n",
    "    end_time = time.time()\n",
    "\n",
    "    # Difference between start and end-times.\n",
    "    time_dif = end_time - start_time\n",
    "    \n",
    "    # Print final validation accuracy\n",
    "    print_valid_accuracy()\n",
    "\n",
    "    # Print the time-usage.\n",
    "    print(\"elapsed: \" + str(timedelta(seconds=int(round(time_dif)))))"
   ]
  },
  {
   "cell_type": "code",
   "execution_count": 21,
   "metadata": {
    "collapsed": true
   },
   "outputs": [],
   "source": [
    "def plot_example_errors(cls_pred, correct):\n",
    "    # This function is called from print_valid_accuracy() below.\n",
    "\n",
    "    # Negate the boolean array.\n",
    "    incorrect = (correct == False)\n",
    "    \n",
    "    # Get the images from the test-set that have been\n",
    "    # incorrectly classified.\n",
    "    images = valid['x'][incorrect][...,0]\n",
    "    \n",
    "    # Get the predicted classes for those images.\n",
    "    cls_pred = cls_pred[incorrect]\n",
    "\n",
    "    # Get the true classes for those images.\n",
    "    cls_true = valid['y'][incorrect].argmax(axis=1)\n",
    "    \n",
    "    # Plot the first 9 images.\n",
    "    plot_images(images=images[:9,...], cls_true=cls_true[:9,...], cls_pred=cls_pred[:9])"
   ]
  },
  {
   "cell_type": "code",
   "execution_count": 22,
   "metadata": {
    "collapsed": true
   },
   "outputs": [],
   "source": [
    "# Split the valid-set into smaller batches of this size.\n",
    "valid_batch_size = 256\n",
    "\n",
    "def print_valid_accuracy(show_example_errors=False):\n",
    "\n",
    "    # Allocate an array for the predicted classes which\n",
    "    # will be calculated in batches and filled into this array.\n",
    "    cls_pred = np.zeros(shape=n_samples_valid, dtype=np.int)\n",
    "\n",
    "    # The starting index for the next batch is denoted i.\n",
    "    i = 0\n",
    "\n",
    "    while i < n_samples_valid:\n",
    "        # The ending index for the next batch is denoted j.\n",
    "        j = min(i + valid_batch_size, n_samples_valid)\n",
    "\n",
    "        # Get the images from the valid-set between index i and j.\n",
    "        images = valid['x'][i:j]\n",
    "\n",
    "        # Get the associated labels.\n",
    "        labels = valid['y'][i:j]\n",
    "\n",
    "        # Calculate the predicted class using TensorFlow.\n",
    "        cls_pred[i:j] = session.run(y_pred_cls, feed_dict={x: images, y_true: labels})\n",
    "\n",
    "        # Set the start-index for the next batch to the\n",
    "        # end-index of the current batch.\n",
    "        i = j\n",
    "\n",
    "    cls_true = valid['y'].argmax(axis=1)\n",
    "\n",
    "    correct = (cls_true == cls_pred)\n",
    "    correct_sum = correct.sum()\n",
    "    \n",
    "    acc = float(correct_sum) / n_samples_valid\n",
    "    \n",
    "    msg = \"accuracy (valid): {0:.1%} ({1} / {2})\"\n",
    "    print(msg.format(acc, correct_sum, n_samples_valid))\n",
    "    \n",
    "    if show_example_errors:\n",
    "        print(\"example errors:\")\n",
    "        plot_example_errors(cls_pred=cls_pred, correct=correct)"
   ]
  },
  {
   "cell_type": "code",
   "execution_count": 42,
   "metadata": {
    "scrolled": false
   },
   "outputs": [
    {
     "name": "stdout",
     "output_type": "stream",
     "text": [
      "accuracy (valid): 89.2% (6908 / 7743)\n",
      "iteration:  30000, accuracy (training):  95.3%, learning rate: 1e-05\n",
      "iteration:  30200, accuracy (training):  98.4%, learning rate: 1e-05\n",
      "iteration:  30400, accuracy (training):  99.2%, learning rate: 1e-05\n",
      "iteration:  30600, accuracy (training):  99.2%, learning rate: 1e-05\n",
      "iteration:  30800, accuracy (training):  97.7%, learning rate: 1e-05\n",
      "accuracy (valid): 91.8% (7105 / 7743)\n",
      "iteration:  31000, accuracy (training):  99.2%, learning rate: 1e-05\n",
      "iteration:  31200, accuracy (training):  99.2%, learning rate: 1e-05\n",
      "iteration:  31400, accuracy (training): 100.0%, learning rate: 1e-05\n",
      "iteration:  31600, accuracy (training):  97.7%, learning rate: 1e-05\n",
      "iteration:  31800, accuracy (training):  99.2%, learning rate: 1e-05\n",
      "accuracy (valid): 91.9% (7114 / 7743)\n",
      "iteration:  32000, accuracy (training):  96.9%, learning rate: 1e-05\n",
      "iteration:  32200, accuracy (training):  96.9%, learning rate: 1e-05\n",
      "iteration:  32400, accuracy (training):  96.9%, learning rate: 1e-05\n",
      "iteration:  32600, accuracy (training):  99.2%, learning rate: 1e-05\n",
      "iteration:  32800, accuracy (training):  99.2%, learning rate: 1e-05\n",
      "accuracy (valid): 91.4% (7078 / 7743)\n",
      "iteration:  33000, accuracy (training): 100.0%, learning rate: 1e-05\n",
      "iteration:  33200, accuracy (training):  98.4%, learning rate: 1e-05\n",
      "iteration:  33400, accuracy (training):  99.2%, learning rate: 1e-05\n",
      "iteration:  33600, accuracy (training):  96.1%, learning rate: 1e-05\n",
      "iteration:  33800, accuracy (training):  99.2%, learning rate: 1e-05\n",
      "accuracy (valid): 91.7% (7098 / 7743)\n",
      "iteration:  34000, accuracy (training):  97.7%, learning rate: 1e-05\n",
      "iteration:  34200, accuracy (training):  99.2%, learning rate: 1e-05\n",
      "iteration:  34400, accuracy (training): 100.0%, learning rate: 1e-05\n",
      "iteration:  34600, accuracy (training):  98.4%, learning rate: 1e-05\n",
      "iteration:  34800, accuracy (training):  99.2%, learning rate: 1e-05\n",
      "accuracy (valid): 92.5% (7165 / 7743)\n",
      "iteration:  35000, accuracy (training):  98.4%, learning rate: 1e-05\n",
      "iteration:  35200, accuracy (training):  97.7%, learning rate: 1e-05\n",
      "iteration:  35400, accuracy (training):  98.4%, learning rate: 1e-05\n",
      "iteration:  35600, accuracy (training):  99.2%, learning rate: 1e-05\n",
      "iteration:  35800, accuracy (training):  97.7%, learning rate: 1e-05\n",
      "accuracy (valid): 89.0% (6888 / 7743)\n",
      "iteration:  36000, accuracy (training):  95.3%, learning rate: 1e-05\n",
      "iteration:  36200, accuracy (training):  97.7%, learning rate: 1e-05\n",
      "iteration:  36400, accuracy (training): 100.0%, learning rate: 1e-05\n",
      "iteration:  36600, accuracy (training):  99.2%, learning rate: 1e-05\n",
      "iteration:  36800, accuracy (training):  97.7%, learning rate: 1e-05\n",
      "accuracy (valid): 91.6% (7092 / 7743)\n",
      "iteration:  37000, accuracy (training): 100.0%, learning rate: 1e-05\n",
      "iteration:  37200, accuracy (training):  98.4%, learning rate: 1e-05\n",
      "iteration:  37400, accuracy (training): 100.0%, learning rate: 1e-05\n",
      "iteration:  37600, accuracy (training): 100.0%, learning rate: 1e-05\n",
      "iteration:  37800, accuracy (training):  96.1%, learning rate: 1e-05\n",
      "accuracy (valid): 91.1% (7053 / 7743)\n",
      "iteration:  38000, accuracy (training):  97.7%, learning rate: 1e-05\n",
      "iteration:  38200, accuracy (training):  99.2%, learning rate: 1e-05\n",
      "iteration:  38400, accuracy (training):  96.1%, learning rate: 1e-05\n",
      "iteration:  38600, accuracy (training):  97.7%, learning rate: 1e-05\n",
      "iteration:  38800, accuracy (training):  98.4%, learning rate: 1e-05\n",
      "accuracy (valid): 88.1% (6819 / 7743)\n",
      "iteration:  39000, accuracy (training):  96.9%, learning rate: 1e-05\n",
      "iteration:  39200, accuracy (training):  98.4%, learning rate: 1e-05\n",
      "iteration:  39400, accuracy (training):  97.7%, learning rate: 1e-05\n",
      "iteration:  39600, accuracy (training):  98.4%, learning rate: 1e-05\n",
      "iteration:  39800, accuracy (training): 100.0%, learning rate: 1e-05\n",
      "accuracy (valid): 91.2% (7065 / 7743)\n",
      "elapsed: 0:17:35\n"
     ]
    }
   ],
   "source": [
    "optimize(n_iterations=10000)"
   ]
  },
  {
   "cell_type": "code",
   "execution_count": null,
   "metadata": {
    "collapsed": true
   },
   "outputs": [],
   "source": [
    "print_valid_accuracy()"
   ]
  },
  {
   "cell_type": "code",
   "execution_count": null,
   "metadata": {
    "collapsed": true
   },
   "outputs": [],
   "source": [
    "print_valid_accuracy(show_example_errors=True)"
   ]
  },
  {
   "cell_type": "code",
   "execution_count": 24,
   "metadata": {},
   "outputs": [
    {
     "name": "stdout",
     "output_type": "stream",
     "text": [
      "done\n"
     ]
    }
   ],
   "source": [
    "# add validation data to data for final training run\n",
    "train = np.concatenate((train, valid))\n",
    "n_samples_train = train.shape[0]\n",
    "print('done')"
   ]
  },
  {
   "cell_type": "code",
   "execution_count": 26,
   "metadata": {},
   "outputs": [
    {
     "name": "stdout",
     "output_type": "stream",
     "text": [
      "n_samples: 13340\n",
      "done\n"
     ]
    }
   ],
   "source": [
    "data_test = pickle.load(open(\"./data_pp/test.pkl\", 'rb'))\n",
    "n_samples_test = len(data_test['dep'])\n",
    "print('n_samples: {}'.format(n_samples_test))\n",
    "print('done')"
   ]
  },
  {
   "cell_type": "code",
   "execution_count": 27,
   "metadata": {},
   "outputs": [
    {
     "name": "stdout",
     "output_type": "stream",
     "text": [
      "done\n"
     ]
    }
   ],
   "source": [
    "test = transform_data(data_test)\n",
    "print('done')"
   ]
  },
  {
   "cell_type": "code",
   "execution_count": 43,
   "metadata": {},
   "outputs": [
    {
     "name": "stdout",
     "output_type": "stream",
     "text": [
      "done\n"
     ]
    }
   ],
   "source": [
    "test_batch_size = 256\n",
    "\n",
    "cls_pred = np.zeros(shape=n_samples_test, dtype=np.int)\n",
    "\n",
    "i = 0\n",
    "\n",
    "while i < n_samples_test:\n",
    "    # The ending index for the next batch is denoted j.\n",
    "    j = min(i + test_batch_size, n_samples_test)\n",
    "\n",
    "    # Get the images from the test-set between index i and j.\n",
    "    images = test['x'][i:j]\n",
    "\n",
    "    # Create a feed-dict with these images and labels.\n",
    "    batch = {x: images}\n",
    "\n",
    "    # Calculate the predicted class using TensorFlow.\n",
    "    cls_pred[i:j] = session.run(y_pred_cls, feed_dict=batch)\n",
    "\n",
    "    # Set the start-index for the next batch to the\n",
    "    # end-index of the current batch.\n",
    "    i = j\n",
    "    \n",
    "print('done')"
   ]
  },
  {
   "cell_type": "code",
   "execution_count": 44,
   "metadata": {},
   "outputs": [
    {
     "name": "stdout",
     "output_type": "stream",
     "text": [
      "done\n"
     ]
    }
   ],
   "source": [
    "prediction = np.zeros((n_samples_test, 2))\n",
    "prediction[:, 0] = np.arange(n_samples_test)+1\n",
    "prediction[:, 1] = cls_pred\n",
    "print('done')"
   ]
  },
  {
   "cell_type": "code",
   "execution_count": 45,
   "metadata": {},
   "outputs": [
    {
     "name": "stdout",
     "output_type": "stream",
     "text": [
      "done\n"
     ]
    }
   ],
   "source": [
    "with open('prediction.csv', 'wb') as f:\n",
    "    f.write(b'ID,Prediction\\n')\n",
    "    np.savetxt(f, prediction, fmt='%i', delimiter=\",\")\n",
    "print('done')"
   ]
  }
 ],
 "metadata": {
  "kernelspec": {
   "display_name": "Python 3",
   "language": "python",
   "name": "python3"
  },
  "language_info": {
   "codemirror_mode": {
    "name": "ipython",
    "version": 3
   },
   "file_extension": ".py",
   "mimetype": "text/x-python",
   "name": "python",
   "nbconvert_exporter": "python",
   "pygments_lexer": "ipython3",
   "version": "3.5.2"
  }
 },
 "nbformat": 4,
 "nbformat_minor": 2
}
