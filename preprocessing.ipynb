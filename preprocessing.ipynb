{
 "cells": [
  {
   "cell_type": "code",
   "execution_count": 1,
   "metadata": {
    "collapsed": false
   },
   "outputs": [],
   "source": [
    "import math\n",
    "import numpy as np\n",
    "import pickle\n",
    "%matplotlib inline\n",
    "import matplotlib.pyplot as plt\n",
    "import cv2\n",
    "from scipy.misc import imresize\n",
    "from skimage import feature"
   ]
  },
  {
   "cell_type": "code",
   "execution_count": 2,
   "metadata": {
    "collapsed": false
   },
   "outputs": [
    {
     "name": "stdout",
     "output_type": "stream",
     "text": [
      "done\n"
     ]
    }
   ],
   "source": [
    "# helpers\n",
    "\n",
    "# plot images, list are dislayed in subplots\n",
    "def plot(imgs, title=None):\n",
    "    # make sure input is a list\n",
    "    if not isinstance(imgs, list):\n",
    "        imgs = [imgs]\n",
    "    \n",
    "    plt.figure()\n",
    "        \n",
    "    for i in range(len(imgs)):\n",
    "        if(title is not None): \n",
    "            plt.suptitle(title)\n",
    "        plt.subplot(1, len(imgs), i+1)\n",
    "        plt.axis(\"off\")\n",
    "        # fix channels for rgb\n",
    "        if len(imgs[i].shape) > 2:\n",
    "            plt.imshow(imgs[i][:,:,[2,1,0]])\n",
    "        else:\n",
    "            plt.imshow(imgs[i])\n",
    "        \n",
    "\n",
    "# create empty list of given size\n",
    "def empty(size):\n",
    "    return [None]*size\n",
    "\n",
    "\n",
    "# calc sigmoid function\n",
    "def sigmoid(x):\n",
    "    return 1 / (1 + math.exp(-x))\n",
    "\n",
    "\n",
    "# calculate mean column of image\n",
    "def mean_column(img):\n",
    "    # sum up columns\n",
    "    colsum = np.sum(img, axis=0)\n",
    "    \n",
    "    # get left and right boundaries\n",
    "    left = np.min(np.nonzero(colsum))\n",
    "    right = np.max(np.nonzero(colsum))\n",
    "    \n",
    "    # calc cumulative sum\n",
    "    cumsum = np.cumsum(colsum[left:right])\n",
    "    \n",
    "    # return index closest to mean\n",
    "    return left+(np.abs(cumsum-np.mean(cumsum))).argmin()\n",
    "\n",
    "\n",
    "# calculate masks from seg\n",
    "def mask2(img):\n",
    "    return img[:,:,0]>150\n",
    "\n",
    "\n",
    "def mask3(img):\n",
    "    return np.tile(mask2(img), (3,1,1)).transpose((1,2,0))\n",
    "\n",
    "\n",
    "print('done')"
   ]
  },
  {
   "cell_type": "code",
   "execution_count": 3,
   "metadata": {
    "collapsed": false
   },
   "outputs": [
    {
     "name": "stdout",
     "output_type": "stream",
     "text": [
      "8190 samples\n",
      "done\n"
     ]
    }
   ],
   "source": [
    "# choose data_set to be used\n",
    "set_name = 'test'\n",
    "\n",
    "# load data\n",
    "data = pickle.load(open(\"./data/data-%s.pkl\" % set_name, 'rb'))\n",
    "n_samples = data['rgb'].shape[0]\n",
    "print('%i samples' % n_samples)\n",
    "\n",
    "chunks = []\n",
    "tmp = n_samples\n",
    "\n",
    "while tmp > 0:\n",
    "    chunks.append(min(10000, tmp))\n",
    "    tmp -= 10000\n",
    "\n",
    "print('done')"
   ]
  },
  {
   "cell_type": "code",
   "execution_count": 4,
   "metadata": {
    "collapsed": false
   },
   "outputs": [
    {
     "name": "stdout",
     "output_type": "stream",
     "text": [
      "done\n"
     ]
    }
   ],
   "source": [
    "# filter invalid samples\n",
    "if('valid' not in data.keys()):\n",
    "    data['valid'] = empty(c)\n",
    "\n",
    "    for i, img in enumerate(data['segmentation']):\n",
    "        data['valid'][i] = img.sum() > 0\n",
    "\n",
    "    pickle.dump(data, open(\"./data/data-%s.pkl\" % data_set, 'wb'))\n",
    "\n",
    "print('done')"
   ]
  },
  {
   "cell_type": "code",
   "execution_count": 5,
   "metadata": {
    "collapsed": true
   },
   "outputs": [],
   "source": [
    "def process(i):\n",
    "    sample = data['segmentation'][i][:, :, 0]\n",
    "\n",
    "    # crop and scale segmentation to calculate body area\n",
    "    \n",
    "    # calculate top and bottom crop\n",
    "    top = np.min(np.nonzero(np.any(sample, axis=1)))\n",
    "    bottom = np.max(np.nonzero(np.any(sample, axis=1)))\n",
    "\n",
    "    # calculate scaling factor\n",
    "    factor = 120/int(bottom-top)\n",
    "\n",
    "    # scale cropped image\n",
    "    seg_tmp = data['segmentation'][i].copy()\n",
    "    seg = cv2.resize(seg_tmp[top:bottom, :, :] ,(int(90*factor), 120), interpolation=cv2.INTER_CUBIC)\n",
    "\n",
    "    # calculate body area (sum of pixel vals, this is why we scale)\n",
    "    pix = seg.sum()\n",
    "\n",
    "    # calculate std of masked depth\n",
    "    mask = mask2(data['segmentation'][i])\n",
    "    dep_masked = data['depth'][i]*mask\n",
    "    std = np.std(dep_masked[dep_masked>0])\n",
    "\n",
    "    # calculate prob of close-up photograph\n",
    "    p_pix = sigmoid((pix-3250000)/90000)\n",
    "    p_std = sigmoid(std-9.5)\n",
    "    p = p_pix*p_pix*p_std\n",
    "\n",
    "    # adjust bottom crop\n",
    "    if not np.any(sample[118:120, :]):\n",
    "        # person is completely in the image\n",
    "        bottom = top+int((bottom-top)*0.5)\n",
    "    elif(p < 0.125):\n",
    "        # person is not close-up\n",
    "        bottom = top+int((bottom-top)*0.65)\n",
    "\n",
    "    # appromximate location of person in image\n",
    "    mean = mean_column(sample[top:bottom, :])\n",
    "\n",
    "    # calculate the scaling factor\n",
    "    factor = 120/int(bottom-top)\n",
    "\n",
    "    # calculate left and right crop\n",
    "    left = 60+mean-int(60/factor)\n",
    "    right = 60+mean+int(60/factor)\n",
    "\n",
    "    # pad originals (in case person is way off-center and left<0 or right>=90)\n",
    "    seg_tmp = data['segmentation'][i].copy()\n",
    "    seg_tmp = np.lib.pad(seg_tmp, ((0, 0), (60, 60), (0, 0)), 'constant')\n",
    "\n",
    "    rgb_tmp = data['rgb'][i].copy()\n",
    "    rgb_tmp = np.lib.pad(rgb_tmp, ((0, 0), (60, 60), (0, 0)), 'constant')\n",
    "\n",
    "    dep_tmp = data['depth'][i].copy()\n",
    "    dep_tmp = np.lib.pad(dep_tmp, ((0, 0), (60, 60)), 'constant')\n",
    "\n",
    "    # resize\n",
    "    seg = cv2.resize(seg_tmp[top:bottom, left:right, :] ,(120, 120), interpolation=cv2.INTER_CUBIC)\n",
    "    rgb = cv2.resize(rgb_tmp[top:bottom, left:right, :] ,(120, 120), interpolation=cv2.INTER_CUBIC)\n",
    "    dep = cv2.resize(dep_tmp[top:bottom, left:right   ] ,(120, 120), interpolation=cv2.INTER_CUBIC)\n",
    "\n",
    "    # mask rgb and depth\n",
    "    rgb *= mask3(seg)\n",
    "    dep *= mask2(seg)\n",
    "\n",
    "    # normalize depth\n",
    "    offset = int(dep[dep>0].mean() - 127)\n",
    "\n",
    "    # if pixel value < offset, set it to 0 to avoid integer overflow\n",
    "    if(dep[dep>0].min() < offset):\n",
    "        dep[dep<offset] = 0\n",
    "\n",
    "    dep[dep>0] = dep[dep>0]-offset\n",
    "\n",
    "    # set background to 'inf'\n",
    "    dep[dep==0] = 255\n",
    "\n",
    "    return seg, rgb, dep"
   ]
  },
  {
   "cell_type": "code",
   "execution_count": 6,
   "metadata": {
    "collapsed": false,
    "scrolled": false
   },
   "outputs": [
    {
     "name": "stdout",
     "output_type": "stream",
     "text": [
      "dumped chunk #0 to './data_pp/test_0.pkl' (8190 samples)\n",
      "done\n"
     ]
    }
   ],
   "source": [
    "# process\n",
    "processed = 0\n",
    "\n",
    "for c, n in enumerate(chunks):\n",
    "    \n",
    "    size = n\n",
    "    \n",
    "    # make space for mirrored images\n",
    "    if set_name == 'train':\n",
    "        size *= 2\n",
    "        \n",
    "    # initialize empty chunk\n",
    "    data_pp = {\n",
    "        'n_samples': size,\n",
    "        'seg':       empty(size),\n",
    "        'rgb':       empty(size),\n",
    "        'dep':       empty(size),\n",
    "        'subject':   empty(size),\n",
    "        'valid':     empty(size),\n",
    "        'label':     empty(size),\n",
    "        'weight':    empty(size),\n",
    "    }\n",
    "    \n",
    "    for i in range(n):\n",
    "        \n",
    "        # copy labels and flags\n",
    "        data_pp['subject'][i] = data['subjectLabels'][processed+i]\n",
    "        data_pp['valid'  ][i] = data['valid'        ][processed+i]\n",
    "        \n",
    "        if set_name == 'train':\n",
    "            data_pp['label'  ][i  ] = data['gestureLabels'][processed+i]\n",
    "            data_pp['label'  ][n+i] = data['gestureLabels'][processed+i]\n",
    "            data_pp['subject'][n+i] = data['subjectLabels'][processed+i]\n",
    "            data_pp['valid'  ][n+i] = data['valid'        ][processed+i]\n",
    "            data_pp['weight' ][i  ] = 5\n",
    "            data_pp['weight' ][n+i] = 1\n",
    "        \n",
    "        # skip if invalid\n",
    "        if(not data_pp['valid'][i]):\n",
    "            continue\n",
    "\n",
    "        # process sample\n",
    "        seg, rgb, dep = process(processed+i)\n",
    "        \n",
    "        # write to chunk\n",
    "        data_pp['seg'][i] = seg\n",
    "        data_pp['rgb'][i] = rgb\n",
    "        data_pp['dep'][i] = dep\n",
    "        \n",
    "        if set_name == 'train':\n",
    "            # add mirrored images\n",
    "            data_pp['seg'][n+i] = cv2.flip(seg, 1)\n",
    "            data_pp['rgb'][n+i] = cv2.flip(rgb, 1)\n",
    "            data_pp['dep'][n+i] = cv2.flip(dep, 1)\n",
    "    \n",
    "    processed += n\n",
    "    \n",
    "    # write to disk\n",
    "    pickle.dump(data_pp, open('./data_pp/%s_%i.pkl' % (set_name, c), 'wb'))\n",
    "    print('dumped chunk #%i to \\'./data_pp/%s_%i.pkl\\' (%i samples)' % (c, set_name, c, size))\n",
    "    \n",
    "    # clear chunk\n",
    "    del data_pp\n",
    "    \n",
    "print('done')"
   ]
  },
  {
   "cell_type": "code",
   "execution_count": 7,
   "metadata": {
    "collapsed": false
   },
   "outputs": [],
   "source": [
    "# clear original data\n",
    "del data"
   ]
  }
 ],
 "metadata": {
  "kernelspec": {
   "display_name": "Python 3",
   "language": "python",
   "name": "python3"
  },
  "language_info": {
   "codemirror_mode": {
    "name": "ipython",
    "version": 3
   },
   "file_extension": ".py",
   "mimetype": "text/x-python",
   "name": "python",
   "nbconvert_exporter": "python",
   "pygments_lexer": "ipython3",
   "version": "3.6.0"
  }
 },
 "nbformat": 4,
 "nbformat_minor": 2
}
