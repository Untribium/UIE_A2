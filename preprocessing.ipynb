{
 "cells": [
  {
   "cell_type": "code",
   "execution_count": 1,
   "metadata": {
    "collapsed": true
   },
   "outputs": [],
   "source": [
    "import math\n",
    "import numpy as np\n",
    "import pickle\n",
    "%matplotlib inline\n",
    "import matplotlib.pyplot as plt\n",
    "import cv2\n",
    "from scipy.misc import imresize\n",
    "from skimage import feature"
   ]
  },
  {
   "cell_type": "code",
   "execution_count": 2,
   "metadata": {},
   "outputs": [
    {
     "name": "stdout",
     "output_type": "stream",
     "text": [
      "done\n"
     ]
    }
   ],
   "source": [
    "# helpers\n",
    "\n",
    "# plot images, list are dislayed in subplots\n",
    "def plot(imgs, title=None):\n",
    "    # make sure input is a list\n",
    "    if not isinstance(imgs, list):\n",
    "        imgs = [imgs]\n",
    "    \n",
    "    plt.figure()\n",
    "        \n",
    "    for i in range(len(imgs)):\n",
    "        if(title is not None): \n",
    "            plt.suptitle(title)\n",
    "        plt.subplot(1, len(imgs), i+1)\n",
    "        plt.axis(\"off\")\n",
    "        # fix channels for rgb\n",
    "        if len(imgs[i].shape) > 2:\n",
    "            plt.imshow(imgs[i][:,:,[2,1,0]])\n",
    "        else:\n",
    "            plt.imshow(imgs[i])\n",
    "        \n",
    "\n",
    "# create empty list of given size\n",
    "def empty(size):\n",
    "    return [None]*size\n",
    "\n",
    "\n",
    "# calculate center column of image\n",
    "def center_column(img):\n",
    "    # sum up columns\n",
    "    colsum = np.sum(img, axis=0)\n",
    "    \n",
    "    # get left and right boundaries\n",
    "    left = np.min(np.nonzero(colsum))\n",
    "    right = np.max(np.nonzero(colsum))\n",
    "    \n",
    "    # calc cumulative sum\n",
    "    cumsum = np.cumsum(colsum[left:right])\n",
    "    \n",
    "    # return index closest to mean\n",
    "    return left+(np.abs(cumsum-np.mean(cumsum))).argmin()\n",
    "\n",
    "\n",
    "# calculate masks from seg\n",
    "def mask2(img):\n",
    "    return img>120\n",
    "\n",
    "\n",
    "def mask3(img):\n",
    "    return np.tile(mask2(img), (3,1,1)).transpose((1,2,0))\n",
    "\n",
    "\n",
    "print('done')"
   ]
  },
  {
   "cell_type": "code",
   "execution_count": 3,
   "metadata": {},
   "outputs": [
    {
     "name": "stdout",
     "output_type": "stream",
     "text": [
      "done\n"
     ]
    }
   ],
   "source": [
    "# extract boundary info (top, bottom,...)\n",
    "def extract_info(sample_id):\n",
    "    \n",
    "    seg = data['segmentation'][sample_id][:,:,0]\n",
    "    \n",
    "    # init dict\n",
    "    info = {}\n",
    "    info['id'] = sample_id\n",
    "    \n",
    "    # calculate top and bottom crop\n",
    "    info['top'] = np.min(np.nonzero(np.any(seg, axis=1)))\n",
    "    info['bottom'] = np.max(np.nonzero(np.any(seg, axis=1)))\n",
    "    \n",
    "    # calculate (scale-adjusted) number of nonzeros\n",
    "    height = info['bottom']-info['top']\n",
    "    factor = (120/height)**2\n",
    "    \n",
    "    info['nonzeros'] = int((seg>0).sum()*factor)\n",
    "    \n",
    "    return info\n",
    "\n",
    "print('done')"
   ]
  },
  {
   "cell_type": "code",
   "execution_count": 4,
   "metadata": {
    "collapsed": true
   },
   "outputs": [],
   "source": [
    "# params\n",
    "set_name = 'train'"
   ]
  },
  {
   "cell_type": "code",
   "execution_count": 5,
   "metadata": {},
   "outputs": [
    {
     "name": "stdout",
     "output_type": "stream",
     "text": [
      "77421 samples\n",
      "done\n"
     ]
    }
   ],
   "source": [
    "# load data\n",
    "data = pickle.load(open('./data/data-{}.pkl'.format(set_name), 'rb'))\n",
    "n_samples = data['rgb'].shape[0]\n",
    "\n",
    "print('%i samples' % n_samples)\n",
    "print('done')"
   ]
  },
  {
   "cell_type": "code",
   "execution_count": 6,
   "metadata": {},
   "outputs": [
    {
     "name": "stdout",
     "output_type": "stream",
     "text": [
      "done\n"
     ]
    }
   ],
   "source": [
    "subjects = list(set(data['subjectLabels']))\n",
    "sub_data = {}\n",
    "\n",
    "for sub_id in subjects:\n",
    "    sub_data[sub_id] = {'samples': []}\n",
    "\n",
    "for i, sub_id in enumerate(data['subjectLabels']):\n",
    "    sub_data[sub_id]['samples'].append(extract_info(i))\n",
    "    \n",
    "print('done')"
   ]
  },
  {
   "cell_type": "code",
   "execution_count": 7,
   "metadata": {
    "collapsed": true,
    "scrolled": true
   },
   "outputs": [],
   "source": [
    "for sub_id in subjects:\n",
    "    samples = sub_data[sub_id]['samples']\n",
    "    \n",
    "    nonzeros = int(sum([sample['nonzeros'] for sample in samples])/len(samples))\n",
    "    bottom = int(sum([sample['bottom'] for sample in samples])/len(samples))\n",
    "    top = int(sum([sample['top'] for sample in samples])/len(samples))\n",
    "    height = bottom-top\n",
    "    \n",
    "    bottom = int(top+(nonzeros/5000)*height) # may be >119\n",
    "    height = bottom-top\n",
    "    top = int(top-height*0.1) # may be <0! always >=-12 (0-120*0.1)\n",
    "    \n",
    "    sub_data[sub_id]['nonzeros'] = nonzeros\n",
    "    sub_data[sub_id]['bottom'] = bottom\n",
    "    sub_data[sub_id]['top'] = top"
   ]
  },
  {
   "cell_type": "code",
   "execution_count": 8,
   "metadata": {
    "collapsed": true
   },
   "outputs": [],
   "source": [
    "def process(i):\n",
    "    sample = data['segmentation'][i][:, :, 0]\n",
    "    sub_id = data['subjectLabels'][i]\n",
    "    \n",
    "    # crop and scale segmentation to calculate body area\n",
    "    \n",
    "    # retrieve top and bottom crop\n",
    "    top = sub_data[sub_id]['top']\n",
    "    bottom = sub_data[sub_id]['bottom']\n",
    "    \n",
    "    # calculate center column\n",
    "    center = center_column(sample[max(0, top):bottom, :])\n",
    "    \n",
    "    dim_out = (96,96)\n",
    "    pad_hor = (48,48)\n",
    "    pad_ver = (48,48)\n",
    "    \n",
    "    # calculate scaling factor\n",
    "    factor = dim_out[0]/(bottom-top)\n",
    "    \n",
    "    # calculate left and right crop\n",
    "    left  = pad_hor[0]+center-int((dim_out[0]/2)/factor)\n",
    "    right = pad_hor[0]+center+int((dim_out[0]/2)/factor)\n",
    "    \n",
    "    # adjust top and bottom crop (for padding)\n",
    "    top    += pad_ver[0]\n",
    "    bottom += pad_ver[0]\n",
    "\n",
    "    # pad originals (in case person is way off-center and left<0, right>=90, or top<0)\n",
    "    rgb_tmp = data['rgb'][i].copy()\n",
    "    rgb_tmp = np.lib.pad(rgb_tmp, (pad_ver, (0, 0), (0, 0)), 'edge')\n",
    "    rgb_tmp = np.lib.pad(rgb_tmp, ((0, 0), pad_hor, (0, 0)), 'constant')\n",
    "    \n",
    "    seg_tmp = data['segmentation'][i][...,0].copy()\n",
    "    seg_tmp = np.lib.pad(seg_tmp, (pad_ver, (0, 0)), 'edge')\n",
    "    seg_tmp = np.lib.pad(seg_tmp, ((0, 0), pad_hor), 'constant')\n",
    "\n",
    "    dep_tmp = data['depth'][i].copy()\n",
    "    dep_tmp = np.lib.pad(dep_tmp, (pad_ver, (0, 0)), 'edge')\n",
    "    dep_tmp = np.lib.pad(dep_tmp, ((0, 0), pad_hor), 'constant')\n",
    "    \n",
    "    # crop and resize\n",
    "    rgb = cv2.resize(rgb_tmp[top:bottom, left:right, :], dim_out, interpolation=cv2.INTER_CUBIC)\n",
    "    seg = cv2.resize(seg_tmp[top:bottom, left:right   ], dim_out, interpolation=cv2.INTER_CUBIC)\n",
    "    dep = cv2.resize(dep_tmp[top:bottom, left:right   ], dim_out, interpolation=cv2.INTER_CUBIC)\n",
    "    \n",
    "    # mask rgb and depth\n",
    "    rgb *= mask3(seg)\n",
    "    dep *= mask2(seg)\n",
    "\n",
    "    return rgb, seg, dep"
   ]
  },
  {
   "cell_type": "code",
   "execution_count": 9,
   "metadata": {
    "scrolled": false
   },
   "outputs": [
    {
     "name": "stdout",
     "output_type": "stream",
     "text": [
      "(77421,)\n",
      "done\n"
     ]
    }
   ],
   "source": [
    "# initialize data_pp\n",
    "data_pp = np.zeros(shape=n_samples, dtype=[('rgb', np.uint8, (96, 96, 3)),\n",
    "                                           ('seg', np.uint8, (96, 96)),\n",
    "                                           ('dep', np.uint8, (96, 96)),\n",
    "                                           ('sub', np.uint8),\n",
    "                                           ('lbl', np.uint8)\n",
    "                                          ])\n",
    "\n",
    "for i in range(n_samples):\n",
    "\n",
    "    # copy labels\n",
    "    data_pp['sub'][i] = data['subjectLabels'][i]\n",
    "\n",
    "    if set_name == 'train':\n",
    "        data_pp['lbl'][i] = data['gestureLabels'][i]\n",
    "\n",
    "    # process sample\n",
    "    rgb, seg, dep = process(i)\n",
    "\n",
    "    # write to chunk\n",
    "    data_pp['seg'][i] = seg\n",
    "    data_pp['rgb'][i] = rgb\n",
    "    data_pp['dep'][i] = dep\n",
    "\n",
    "print(data_pp.shape)\n",
    "print('done')"
   ]
  },
  {
   "cell_type": "code",
   "execution_count": 11,
   "metadata": {},
   "outputs": [
    {
     "name": "stdout",
     "output_type": "stream",
     "text": [
      "done\n"
     ]
    }
   ],
   "source": [
    "# normalize depth\n",
    "for sub_id, sub in sub_data.items():\n",
    "    \n",
    "    sample_ids = [sample['id'] for sample in sub['samples']]\n",
    "    \n",
    "    deps = [data_pp['dep'][sample_id] for sample_id in sample_ids]\n",
    "    segs = [data_pp['seg'][sample_id] for sample_id in sample_ids]\n",
    "    \n",
    "    avg_mean = sum(dep[dep>0].mean() for dep in deps)/len(deps)\n",
    "    avg_std = sum(dep[dep>0].std() for dep in deps)/len(deps)\n",
    "    \n",
    "    for dep, seg in zip(deps, segs):\n",
    "        \n",
    "        # convert to signed type, so we can shift to mean=0\n",
    "        signed = dep.astype(dtype=int)\n",
    "\n",
    "        # shift mean to 0, fix std to 16, move mean to 128\n",
    "        signed = signed-avg_mean\n",
    "        signed = signed*(16/avg_std)\n",
    "        signed = signed+128\n",
    "\n",
    "        # store into old container\n",
    "        dep[...] = signed.astype(np.uint8)[...]\n",
    "        \n",
    "        # re-apply mask and set background to max distance\n",
    "        dep *= mask2(seg)\n",
    "        dep[dep==0] = 255\n",
    "        \n",
    "print('done')"
   ]
  },
  {
   "cell_type": "code",
   "execution_count": 12,
   "metadata": {
    "scrolled": true
   },
   "outputs": [
    {
     "ename": "NameError",
     "evalue": "name 'data' is not defined",
     "output_type": "error",
     "traceback": [
      "\u001b[0;31m---------------------------------------------------------------------------\u001b[0m",
      "\u001b[0;31mNameError\u001b[0m                                 Traceback (most recent call last)",
      "\u001b[0;32m<ipython-input-12-0243750fc634>\u001b[0m in \u001b[0;36m<module>\u001b[0;34m()\u001b[0m\n\u001b[1;32m      1\u001b[0m \u001b[0ms\u001b[0m \u001b[0;34m=\u001b[0m \u001b[0;36m10000\u001b[0m\u001b[0;34m\u001b[0m\u001b[0m\n\u001b[1;32m      2\u001b[0m \u001b[0;32mfor\u001b[0m \u001b[0mi\u001b[0m \u001b[0;32min\u001b[0m \u001b[0mrange\u001b[0m\u001b[0;34m(\u001b[0m\u001b[0ms\u001b[0m\u001b[0;34m,\u001b[0m\u001b[0ms\u001b[0m\u001b[0;34m+\u001b[0m\u001b[0;36m20\u001b[0m\u001b[0;34m)\u001b[0m\u001b[0;34m:\u001b[0m\u001b[0;34m\u001b[0m\u001b[0m\n\u001b[0;32m----> 3\u001b[0;31m     \u001b[0mplot\u001b[0m\u001b[0;34m(\u001b[0m\u001b[0;34m[\u001b[0m\u001b[0mdata\u001b[0m\u001b[0;34m[\u001b[0m\u001b[0;34m'rgb'\u001b[0m\u001b[0;34m]\u001b[0m\u001b[0;34m[\u001b[0m\u001b[0mi\u001b[0m\u001b[0;34m]\u001b[0m\u001b[0;34m,\u001b[0m \u001b[0mdata_pp\u001b[0m\u001b[0;34m[\u001b[0m\u001b[0;34m'rgb'\u001b[0m\u001b[0;34m]\u001b[0m\u001b[0;34m[\u001b[0m\u001b[0mi\u001b[0m\u001b[0;34m]\u001b[0m\u001b[0;34m]\u001b[0m\u001b[0;34m,\u001b[0m \u001b[0;34m'rgb({})'\u001b[0m\u001b[0;34m.\u001b[0m\u001b[0mformat\u001b[0m\u001b[0;34m(\u001b[0m\u001b[0mi\u001b[0m\u001b[0;34m)\u001b[0m\u001b[0;34m)\u001b[0m\u001b[0;34m\u001b[0m\u001b[0m\n\u001b[0m\u001b[1;32m      4\u001b[0m     \u001b[0mplot\u001b[0m\u001b[0;34m(\u001b[0m\u001b[0;34m[\u001b[0m\u001b[0mdata\u001b[0m\u001b[0;34m[\u001b[0m\u001b[0;34m'depth'\u001b[0m\u001b[0;34m]\u001b[0m\u001b[0;34m[\u001b[0m\u001b[0mi\u001b[0m\u001b[0;34m]\u001b[0m\u001b[0;34m,\u001b[0m \u001b[0mdata_pp\u001b[0m\u001b[0;34m[\u001b[0m\u001b[0;34m'dep'\u001b[0m\u001b[0;34m]\u001b[0m\u001b[0;34m[\u001b[0m\u001b[0mi\u001b[0m\u001b[0;34m]\u001b[0m\u001b[0;34m]\u001b[0m\u001b[0;34m,\u001b[0m \u001b[0;34m'depth({})'\u001b[0m\u001b[0;34m.\u001b[0m\u001b[0mformat\u001b[0m\u001b[0;34m(\u001b[0m\u001b[0mi\u001b[0m\u001b[0;34m)\u001b[0m\u001b[0;34m)\u001b[0m\u001b[0;34m\u001b[0m\u001b[0m\n",
      "\u001b[0;31mNameError\u001b[0m: name 'data' is not defined"
     ]
    }
   ],
   "source": [
    "s = 10000\n",
    "for i in range(s,s+20):\n",
    "    plot([data['rgb'][i], data_pp['rgb'][i]], 'rgb({})'.format(i))\n",
    "    plot([data['depth'][i], data_pp['dep'][i]], 'depth({})'.format(i))"
   ]
  },
  {
   "cell_type": "code",
   "execution_count": 13,
   "metadata": {},
   "outputs": [
    {
     "name": "stdout",
     "output_type": "stream",
     "text": [
      "done\n"
     ]
    }
   ],
   "source": [
    "pickle.dump(data_pp, open('./data_pp/{}_sa.pkl'.format(set_name), 'wb'))\n",
    "print('done')"
   ]
  },
  {
   "cell_type": "code",
   "execution_count": null,
   "metadata": {
    "collapsed": true
   },
   "outputs": [],
   "source": [
    "# dump to disk (in chunks)\n",
    "max_chunk_size = 10000\n",
    "dumped = 0\n",
    "chunk_id = 0\n",
    "\n",
    "while dumped < n_samples:\n",
    "    \n",
    "    chunk_size = min(n_samples-dumped, max_chunk_size)\n",
    "    \n",
    "    chunk = {\n",
    "        'seg': data_pp['seg'][dumped:dumped+chunk_size],\n",
    "        'rgb': data_pp['rgb'][dumped:dumped+chunk_size],\n",
    "        'dep': data_pp['dep'][dumped:dumped+chunk_size],\n",
    "        'sub': data_pp['sub'][dumped:dumped+chunk_size],\n",
    "        'lbl': data_pp['lbl'][dumped:dumped+chunk_size],\n",
    "    }\n",
    "    \n",
    "    # write to disk\n",
    "    pickle.dump(chunk, open('./data_pp/%s_%i.pkl' % (set_name, chunk_id), 'wb'))\n",
    "    print('dumped chunk #%i to \\'./data_pp/%s_%i.pkl\\' (%i samples)' % (chunk_id, set_name, chunk_id, chunk_size))\n",
    "    \n",
    "    del chunk\n",
    "    \n",
    "    dumped += chunk_size\n",
    "    chunk_id += 1\n",
    "    \n",
    "print('done')"
   ]
  },
  {
   "cell_type": "code",
   "execution_count": 14,
   "metadata": {
    "collapsed": true
   },
   "outputs": [],
   "source": [
    "data_pp = pickle.load(open('./data_pp/{}_sa.pkl'.format(set_name), 'rb'))"
   ]
  },
  {
   "cell_type": "code",
   "execution_count": 15,
   "metadata": {},
   "outputs": [
    {
     "data": {
      "image/png": "[encoded data removed]",
      "text/plain": [
       "<matplotlib.figure.Figure at 0x7f5446dce5f8>"
      ]
     },
     "metadata": {},
     "output_type": "display_data"
    },
    {
     "data": {
      "image/png": "[encoded data removed]",
      "text/plain": [
       "<matplotlib.figure.Figure at 0x7f5444f708d0>"
      ]
     },
     "metadata": {},
     "output_type": "display_data"
    },
    {
     "data": {
      "image/png": "[encoded data removed]",
      "text/plain": [
       "<matplotlib.figure.Figure at 0x7f5444e0fac8>"
      ]
     },
     "metadata": {},
     "output_type": "display_data"
    }
   ],
   "source": [
    "plot(list(data_pp[1000])[0:3])\n",
    "plot(list(data_pp[2000])[0:3])\n",
    "plot(list(data_pp[3000])[0:3])"
   ]
  },
  {
   "cell_type": "code",
   "execution_count": 10,
   "metadata": {
    "collapsed": true
   },
   "outputs": [],
   "source": [
    "# clear original data\n",
    "del data"
   ]
  }
 ],
 "metadata": {
  "kernelspec": {
   "display_name": "Python 3",
   "language": "python",
   "name": "python3"
  },
  "language_info": {
   "codemirror_mode": {
    "name": "ipython",
    "version": 3
   },
   "file_extension": ".py",
   "mimetype": "text/x-python",
   "name": "python",
   "nbconvert_exporter": "python",
   "pygments_lexer": "ipython3",
   "version": "3.6.0"
  }
 },
 "nbformat": 4,
 "nbformat_minor": 2
}
